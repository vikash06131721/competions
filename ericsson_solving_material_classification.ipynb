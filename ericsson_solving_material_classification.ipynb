{
 "cells": [
  {
   "cell_type": "markdown",
   "metadata": {},
   "source": [
    "# Libraries"
   ]
  },
  {
   "cell_type": "code",
   "execution_count": 101,
   "metadata": {},
   "outputs": [],
   "source": [
    "from libraries import *\n",
    "import utils\n",
    "import warnings\n",
    "warnings.filterwarnings('ignore')\n",
    "%matplotlib inline"
   ]
  },
  {
   "cell_type": "code",
   "execution_count": 102,
   "metadata": {},
   "outputs": [
    {
     "name": "stdout",
     "output_type": "stream",
     "text": [
      "All packages are good to go !!\n"
     ]
    }
   ],
   "source": [
    "import imp\n",
    "imp.reload(utils)\n",
    "from utils import *"
   ]
  },
  {
   "cell_type": "code",
   "execution_count": 103,
   "metadata": {},
   "outputs": [],
   "source": [
    "data_dir = '../data/Predictive_Data/'"
   ]
  },
  {
   "cell_type": "markdown",
   "metadata": {},
   "source": [
    "# Problem Statement:\n",
    "\n",
    "We are living in a digital world where people prefer to read articles online or watch videos rather than reading a book. Assume that you are a member of a marketing agency and you are given a dataset having the title, subjects, and other features based on which you have to predict what will be the material of to-be-published research so that you can tie-up with an ideal publisher and help them grow. The following are the material types:\n",
    "\n",
    "Book\n",
    "\n",
    "Sound disc\n",
    "\n",
    "Videocassette\n",
    "\n",
    "Sound cassette\n",
    "\n",
    "Music\n",
    "\n",
    "Mixed\n",
    "\n",
    "CR\n",
    "\n",
    "Task: You have to predict the column “MaterialType” and submit in the format given in the “sample_submissions.csv” file. Also, note that evaluation criteria will be the weighted f1-score."
   ]
  },
  {
   "cell_type": "markdown",
   "metadata": {},
   "source": [
    "# Approach:\n",
    "\n",
    "1. We will perform the basic tasks of data cleaning and data wrangling.\n",
    "2. We will fit the data with a basic white box algorithm to observe the accuracy and performance.\n",
    "3. Since the data does'nt belongs to the users we can try Neural Networks, for better accuracy and F1 score"
   ]
  },
  {
   "cell_type": "markdown",
   "metadata": {},
   "source": [
    "# Data Preprocessing and Exploration\n",
    "\n",
    "We have been given a single dataset which has around 31653 records with around 12 columns. The target variable has around 8 different \"MaterialTypes\".\n",
    "\n",
    "One of the most common data wrangling process is to check for nulls and fill them up with appropriate values\n",
    "\n",
    "Checking Nulls and filling them with appropriate values, usually incase of numerical values we impute with median, median is considered appropriate since it's not affected by outliers, mode can also be used.\n",
    "Here we will use empty strings to input values\n"
   ]
  },
  {
   "cell_type": "code",
   "execution_count": 79,
   "metadata": {},
   "outputs": [
    {
     "data": {
      "text/plain": [
       "(31653, 12)"
      ]
     },
     "execution_count": 79,
     "metadata": {},
     "output_type": "execute_result"
    }
   ],
   "source": [
    "persona_labelled = pd.read_csv(data_dir+'train_file.csv')\n",
    "persona_labelled.shape"
   ]
  },
  {
   "cell_type": "code",
   "execution_count": 104,
   "metadata": {},
   "outputs": [
    {
     "name": "stdout",
     "output_type": "stream",
     "text": [
      "Detailed DF Info:\n"
     ]
    },
    {
     "data": {
      "text/html": [
       "<div>\n",
       "<style scoped>\n",
       "    .dataframe tbody tr th:only-of-type {\n",
       "        vertical-align: middle;\n",
       "    }\n",
       "\n",
       "    .dataframe tbody tr th {\n",
       "        vertical-align: top;\n",
       "    }\n",
       "\n",
       "    .dataframe thead th {\n",
       "        text-align: right;\n",
       "    }\n",
       "</style>\n",
       "<table border=\"1\" class=\"dataframe\">\n",
       "  <thead>\n",
       "    <tr style=\"text-align: right;\">\n",
       "      <th></th>\n",
       "      <th>percentage_nulls_in_each_column</th>\n",
       "      <th>categorical_vals</th>\n",
       "      <th>num_unique_vals</th>\n",
       "      <th>datatypes</th>\n",
       "    </tr>\n",
       "  </thead>\n",
       "  <tbody>\n",
       "    <tr>\n",
       "      <th>ID</th>\n",
       "      <td>0.000000</td>\n",
       "      <td>False</td>\n",
       "      <td>31653</td>\n",
       "      <td>int64</td>\n",
       "    </tr>\n",
       "    <tr>\n",
       "      <th>UsageClass</th>\n",
       "      <td>0.000000</td>\n",
       "      <td>True</td>\n",
       "      <td>1</td>\n",
       "      <td>object</td>\n",
       "    </tr>\n",
       "    <tr>\n",
       "      <th>CheckoutType</th>\n",
       "      <td>0.000000</td>\n",
       "      <td>True</td>\n",
       "      <td>1</td>\n",
       "      <td>object</td>\n",
       "    </tr>\n",
       "    <tr>\n",
       "      <th>CheckoutYear</th>\n",
       "      <td>0.000000</td>\n",
       "      <td>True</td>\n",
       "      <td>1</td>\n",
       "      <td>int64</td>\n",
       "    </tr>\n",
       "    <tr>\n",
       "      <th>CheckoutMonth</th>\n",
       "      <td>0.000000</td>\n",
       "      <td>True</td>\n",
       "      <td>1</td>\n",
       "      <td>int64</td>\n",
       "    </tr>\n",
       "    <tr>\n",
       "      <th>Checkouts</th>\n",
       "      <td>0.000000</td>\n",
       "      <td>False</td>\n",
       "      <td>50</td>\n",
       "      <td>int64</td>\n",
       "    </tr>\n",
       "    <tr>\n",
       "      <th>Title</th>\n",
       "      <td>0.000000</td>\n",
       "      <td>False</td>\n",
       "      <td>31653</td>\n",
       "      <td>object</td>\n",
       "    </tr>\n",
       "    <tr>\n",
       "      <th>Creator</th>\n",
       "      <td>73.095757</td>\n",
       "      <td>False</td>\n",
       "      <td>6731</td>\n",
       "      <td>object</td>\n",
       "    </tr>\n",
       "    <tr>\n",
       "      <th>Subjects</th>\n",
       "      <td>5.569772</td>\n",
       "      <td>False</td>\n",
       "      <td>24755</td>\n",
       "      <td>object</td>\n",
       "    </tr>\n",
       "    <tr>\n",
       "      <th>Publisher</th>\n",
       "      <td>69.238303</td>\n",
       "      <td>False</td>\n",
       "      <td>3519</td>\n",
       "      <td>object</td>\n",
       "    </tr>\n",
       "    <tr>\n",
       "      <th>PublicationYear</th>\n",
       "      <td>69.285692</td>\n",
       "      <td>False</td>\n",
       "      <td>840</td>\n",
       "      <td>object</td>\n",
       "    </tr>\n",
       "    <tr>\n",
       "      <th>MaterialType</th>\n",
       "      <td>0.000000</td>\n",
       "      <td>True</td>\n",
       "      <td>8</td>\n",
       "      <td>object</td>\n",
       "    </tr>\n",
       "  </tbody>\n",
       "</table>\n",
       "</div>"
      ],
      "text/plain": [
       "                 percentage_nulls_in_each_column  categorical_vals  \\\n",
       "ID                                      0.000000             False   \n",
       "UsageClass                              0.000000              True   \n",
       "CheckoutType                            0.000000              True   \n",
       "CheckoutYear                            0.000000              True   \n",
       "CheckoutMonth                           0.000000              True   \n",
       "Checkouts                               0.000000             False   \n",
       "Title                                   0.000000             False   \n",
       "Creator                                73.095757             False   \n",
       "Subjects                                5.569772             False   \n",
       "Publisher                              69.238303             False   \n",
       "PublicationYear                        69.285692             False   \n",
       "MaterialType                            0.000000              True   \n",
       "\n",
       "                 num_unique_vals datatypes  \n",
       "ID                         31653     int64  \n",
       "UsageClass                     1    object  \n",
       "CheckoutType                   1    object  \n",
       "CheckoutYear                   1     int64  \n",
       "CheckoutMonth                  1     int64  \n",
       "Checkouts                     50     int64  \n",
       "Title                      31653    object  \n",
       "Creator                     6731    object  \n",
       "Subjects                   24755    object  \n",
       "Publisher                   3519    object  \n",
       "PublicationYear              840    object  \n",
       "MaterialType                   8    object  "
      ]
     },
     "execution_count": 104,
     "metadata": {},
     "output_type": "execute_result"
    },
    {
     "data": {
      "image/png": "[encoded data removed]",
      "text/plain": [
       "<Figure size 1440x720 with 1 Axes>"
      ]
     },
     "metadata": {
      "needs_background": "light"
     },
     "output_type": "display_data"
    }
   ],
   "source": [
    "uts_ = utils(persona_labelled)\n",
    "uts_.print_df_info(target_column='MaterialType')"
   ]
  },
  {
   "cell_type": "markdown",
   "metadata": {},
   "source": [
    "# Observation:\n",
    "We will consider the text columns only, for the Null values we wont drop them, but would replace them with empty string ' '."
   ]
  },
  {
   "cell_type": "code",
   "execution_count": 7,
   "metadata": {},
   "outputs": [],
   "source": [
    "persona_labelled.fillna(' ',inplace=True)"
   ]
  },
  {
   "cell_type": "code",
   "execution_count": 8,
   "metadata": {},
   "outputs": [
    {
     "data": {
      "text/html": [
       "<div>\n",
       "<style scoped>\n",
       "    .dataframe tbody tr th:only-of-type {\n",
       "        vertical-align: middle;\n",
       "    }\n",
       "\n",
       "    .dataframe tbody tr th {\n",
       "        vertical-align: top;\n",
       "    }\n",
       "\n",
       "    .dataframe thead th {\n",
       "        text-align: right;\n",
       "    }\n",
       "</style>\n",
       "<table border=\"1\" class=\"dataframe\">\n",
       "  <thead>\n",
       "    <tr style=\"text-align: right;\">\n",
       "      <th></th>\n",
       "      <th>ID</th>\n",
       "      <th>UsageClass</th>\n",
       "      <th>CheckoutType</th>\n",
       "      <th>CheckoutYear</th>\n",
       "      <th>CheckoutMonth</th>\n",
       "      <th>Checkouts</th>\n",
       "      <th>Title</th>\n",
       "      <th>Creator</th>\n",
       "      <th>Subjects</th>\n",
       "      <th>Publisher</th>\n",
       "      <th>PublicationYear</th>\n",
       "    </tr>\n",
       "  </thead>\n",
       "  <tbody>\n",
       "    <tr>\n",
       "      <th>0</th>\n",
       "      <td>31654</td>\n",
       "      <td>Physical</td>\n",
       "      <td>Horizon</td>\n",
       "      <td>2005</td>\n",
       "      <td>4</td>\n",
       "      <td>1</td>\n",
       "      <td>Footprints at the window</td>\n",
       "      <td>NaN</td>\n",
       "      <td>England Fiction, Space and time Fiction</td>\n",
       "      <td>NaN</td>\n",
       "      <td>NaN</td>\n",
       "    </tr>\n",
       "    <tr>\n",
       "      <th>1</th>\n",
       "      <td>31655</td>\n",
       "      <td>Physical</td>\n",
       "      <td>Horizon</td>\n",
       "      <td>2005</td>\n",
       "      <td>4</td>\n",
       "      <td>2</td>\n",
       "      <td>Seven brides for seven brothers</td>\n",
       "      <td>NaN</td>\n",
       "      <td>Video recordings for the hearing impaired, Mus...</td>\n",
       "      <td>NaN</td>\n",
       "      <td>NaN</td>\n",
       "    </tr>\n",
       "    <tr>\n",
       "      <th>2</th>\n",
       "      <td>31656</td>\n",
       "      <td>Physical</td>\n",
       "      <td>Horizon</td>\n",
       "      <td>2005</td>\n",
       "      <td>4</td>\n",
       "      <td>2</td>\n",
       "      <td>History [sound recording] / Loudon Wainwright ...</td>\n",
       "      <td>Wainwright, Loudon, III, 1946-</td>\n",
       "      <td>Popular music 1991 2000</td>\n",
       "      <td>Charisma,</td>\n",
       "      <td>p1992.</td>\n",
       "    </tr>\n",
       "    <tr>\n",
       "      <th>3</th>\n",
       "      <td>31657</td>\n",
       "      <td>Physical</td>\n",
       "      <td>Horizon</td>\n",
       "      <td>2005</td>\n",
       "      <td>4</td>\n",
       "      <td>2</td>\n",
       "      <td>Doing big business on the internet</td>\n",
       "      <td>NaN</td>\n",
       "      <td>Internet, Internet advertising, Information ne...</td>\n",
       "      <td>NaN</td>\n",
       "      <td>NaN</td>\n",
       "    </tr>\n",
       "    <tr>\n",
       "      <th>4</th>\n",
       "      <td>31658</td>\n",
       "      <td>Physical</td>\n",
       "      <td>Horizon</td>\n",
       "      <td>2005</td>\n",
       "      <td>4</td>\n",
       "      <td>2</td>\n",
       "      <td>Lets learn how to dance shag</td>\n",
       "      <td>NaN</td>\n",
       "      <td>Shag Dance, Ballroom dancing</td>\n",
       "      <td>NaN</td>\n",
       "      <td>NaN</td>\n",
       "    </tr>\n",
       "  </tbody>\n",
       "</table>\n",
       "</div>"
      ],
      "text/plain": [
       "      ID UsageClass CheckoutType  CheckoutYear  CheckoutMonth  Checkouts  \\\n",
       "0  31654   Physical      Horizon          2005              4          1   \n",
       "1  31655   Physical      Horizon          2005              4          2   \n",
       "2  31656   Physical      Horizon          2005              4          2   \n",
       "3  31657   Physical      Horizon          2005              4          2   \n",
       "4  31658   Physical      Horizon          2005              4          2   \n",
       "\n",
       "                                               Title  \\\n",
       "0                           Footprints at the window   \n",
       "1                    Seven brides for seven brothers   \n",
       "2  History [sound recording] / Loudon Wainwright ...   \n",
       "3                 Doing big business on the internet   \n",
       "4                       Lets learn how to dance shag   \n",
       "\n",
       "                          Creator  \\\n",
       "0                             NaN   \n",
       "1                             NaN   \n",
       "2  Wainwright, Loudon, III, 1946-   \n",
       "3                             NaN   \n",
       "4                             NaN   \n",
       "\n",
       "                                            Subjects  Publisher  \\\n",
       "0            England Fiction, Space and time Fiction        NaN   \n",
       "1  Video recordings for the hearing impaired, Mus...        NaN   \n",
       "2                            Popular music 1991 2000  Charisma,   \n",
       "3  Internet, Internet advertising, Information ne...        NaN   \n",
       "4                       Shag Dance, Ballroom dancing        NaN   \n",
       "\n",
       "  PublicationYear  \n",
       "0             NaN  \n",
       "1             NaN  \n",
       "2          p1992.  \n",
       "3             NaN  \n",
       "4             NaN  "
      ]
     },
     "execution_count": 8,
     "metadata": {},
     "output_type": "execute_result"
    }
   ],
   "source": [
    "test_data = pd.read_csv(data_dir+'test_file.csv')\n",
    "test_data.head()"
   ]
  },
  {
   "cell_type": "code",
   "execution_count": 9,
   "metadata": {},
   "outputs": [
    {
     "name": "stdout",
     "output_type": "stream",
     "text": [
      "Detailed DF Info:\n"
     ]
    },
    {
     "data": {
      "text/html": [
       "<div>\n",
       "<style scoped>\n",
       "    .dataframe tbody tr th:only-of-type {\n",
       "        vertical-align: middle;\n",
       "    }\n",
       "\n",
       "    .dataframe tbody tr th {\n",
       "        vertical-align: top;\n",
       "    }\n",
       "\n",
       "    .dataframe thead th {\n",
       "        text-align: right;\n",
       "    }\n",
       "</style>\n",
       "<table border=\"1\" class=\"dataframe\">\n",
       "  <thead>\n",
       "    <tr style=\"text-align: right;\">\n",
       "      <th></th>\n",
       "      <th>percentage_nulls_in_each_column</th>\n",
       "      <th>categorical_vals</th>\n",
       "      <th>num_unique_vals</th>\n",
       "      <th>datatypes</th>\n",
       "    </tr>\n",
       "  </thead>\n",
       "  <tbody>\n",
       "    <tr>\n",
       "      <th>ID</th>\n",
       "      <td>0.000000</td>\n",
       "      <td>False</td>\n",
       "      <td>21102</td>\n",
       "      <td>int64</td>\n",
       "    </tr>\n",
       "    <tr>\n",
       "      <th>UsageClass</th>\n",
       "      <td>0.000000</td>\n",
       "      <td>True</td>\n",
       "      <td>1</td>\n",
       "      <td>object</td>\n",
       "    </tr>\n",
       "    <tr>\n",
       "      <th>CheckoutType</th>\n",
       "      <td>0.000000</td>\n",
       "      <td>True</td>\n",
       "      <td>1</td>\n",
       "      <td>object</td>\n",
       "    </tr>\n",
       "    <tr>\n",
       "      <th>CheckoutYear</th>\n",
       "      <td>0.000000</td>\n",
       "      <td>True</td>\n",
       "      <td>1</td>\n",
       "      <td>int64</td>\n",
       "    </tr>\n",
       "    <tr>\n",
       "      <th>CheckoutMonth</th>\n",
       "      <td>0.000000</td>\n",
       "      <td>True</td>\n",
       "      <td>1</td>\n",
       "      <td>int64</td>\n",
       "    </tr>\n",
       "    <tr>\n",
       "      <th>Checkouts</th>\n",
       "      <td>0.000000</td>\n",
       "      <td>False</td>\n",
       "      <td>49</td>\n",
       "      <td>int64</td>\n",
       "    </tr>\n",
       "    <tr>\n",
       "      <th>Title</th>\n",
       "      <td>0.000000</td>\n",
       "      <td>False</td>\n",
       "      <td>21102</td>\n",
       "      <td>object</td>\n",
       "    </tr>\n",
       "    <tr>\n",
       "      <th>Creator</th>\n",
       "      <td>71.576154</td>\n",
       "      <td>False</td>\n",
       "      <td>4979</td>\n",
       "      <td>object</td>\n",
       "    </tr>\n",
       "    <tr>\n",
       "      <th>Subjects</th>\n",
       "      <td>5.748270</td>\n",
       "      <td>False</td>\n",
       "      <td>16828</td>\n",
       "      <td>object</td>\n",
       "    </tr>\n",
       "    <tr>\n",
       "      <th>Publisher</th>\n",
       "      <td>67.420150</td>\n",
       "      <td>False</td>\n",
       "      <td>2680</td>\n",
       "      <td>object</td>\n",
       "    </tr>\n",
       "    <tr>\n",
       "      <th>PublicationYear</th>\n",
       "      <td>67.491233</td>\n",
       "      <td>False</td>\n",
       "      <td>672</td>\n",
       "      <td>object</td>\n",
       "    </tr>\n",
       "  </tbody>\n",
       "</table>\n",
       "</div>"
      ],
      "text/plain": [
       "                 percentage_nulls_in_each_column  categorical_vals  \\\n",
       "ID                                      0.000000             False   \n",
       "UsageClass                              0.000000              True   \n",
       "CheckoutType                            0.000000              True   \n",
       "CheckoutYear                            0.000000              True   \n",
       "CheckoutMonth                           0.000000              True   \n",
       "Checkouts                               0.000000             False   \n",
       "Title                                   0.000000             False   \n",
       "Creator                                71.576154             False   \n",
       "Subjects                                5.748270             False   \n",
       "Publisher                              67.420150             False   \n",
       "PublicationYear                        67.491233             False   \n",
       "\n",
       "                 num_unique_vals datatypes  \n",
       "ID                         21102     int64  \n",
       "UsageClass                     1    object  \n",
       "CheckoutType                   1    object  \n",
       "CheckoutYear                   1     int64  \n",
       "CheckoutMonth                  1     int64  \n",
       "Checkouts                     49     int64  \n",
       "Title                      21102    object  \n",
       "Creator                     4979    object  \n",
       "Subjects                   16828    object  \n",
       "Publisher                   2680    object  \n",
       "PublicationYear              672    object  "
      ]
     },
     "execution_count": 9,
     "metadata": {},
     "output_type": "execute_result"
    },
    {
     "data": {
      "text/plain": [
       "<Figure size 1440x720 with 0 Axes>"
      ]
     },
     "metadata": {},
     "output_type": "display_data"
    }
   ],
   "source": [
    "uts_test = utils(test_data)\n",
    "uts_test.print_df_info(target_column='MaterialType')"
   ]
  },
  {
   "cell_type": "code",
   "execution_count": 10,
   "metadata": {},
   "outputs": [],
   "source": [
    "test_data.fillna(' ',inplace=True)"
   ]
  },
  {
   "cell_type": "markdown",
   "metadata": {},
   "source": [
    "# Cleaning\n",
    "For cleaning the text we will use regex to remove all types of punctuations and spacings, after merging all the text into one long string."
   ]
  },
  {
   "cell_type": "code",
   "execution_count": 11,
   "metadata": {},
   "outputs": [
    {
     "data": {
      "text/html": [
       "<div>\n",
       "<style scoped>\n",
       "    .dataframe tbody tr th:only-of-type {\n",
       "        vertical-align: middle;\n",
       "    }\n",
       "\n",
       "    .dataframe tbody tr th {\n",
       "        vertical-align: top;\n",
       "    }\n",
       "\n",
       "    .dataframe thead th {\n",
       "        text-align: right;\n",
       "    }\n",
       "</style>\n",
       "<table border=\"1\" class=\"dataframe\">\n",
       "  <thead>\n",
       "    <tr style=\"text-align: right;\">\n",
       "      <th></th>\n",
       "      <th>ID</th>\n",
       "      <th>UsageClass</th>\n",
       "      <th>CheckoutType</th>\n",
       "      <th>CheckoutYear</th>\n",
       "      <th>CheckoutMonth</th>\n",
       "      <th>Checkouts</th>\n",
       "      <th>Title</th>\n",
       "      <th>Creator</th>\n",
       "      <th>Subjects</th>\n",
       "      <th>Publisher</th>\n",
       "      <th>PublicationYear</th>\n",
       "      <th>MaterialType</th>\n",
       "      <th>all_text</th>\n",
       "    </tr>\n",
       "  </thead>\n",
       "  <tbody>\n",
       "    <tr>\n",
       "      <th>0</th>\n",
       "      <td>1</td>\n",
       "      <td>Physical</td>\n",
       "      <td>Horizon</td>\n",
       "      <td>2005</td>\n",
       "      <td>4</td>\n",
       "      <td>1</td>\n",
       "      <td>Tidal wave</td>\n",
       "      <td></td>\n",
       "      <td>Tsunamis, Tsunamis Juvenile literature</td>\n",
       "      <td></td>\n",
       "      <td></td>\n",
       "      <td>BOOK</td>\n",
       "      <td>Tidal wave Tsunamis, Tsunamis Juvenile literat...</td>\n",
       "    </tr>\n",
       "    <tr>\n",
       "      <th>1</th>\n",
       "      <td>2</td>\n",
       "      <td>Physical</td>\n",
       "      <td>Horizon</td>\n",
       "      <td>2005</td>\n",
       "      <td>4</td>\n",
       "      <td>1</td>\n",
       "      <td>London holiday / Richard Peck.</td>\n",
       "      <td>Peck, Richard, 1934-</td>\n",
       "      <td></td>\n",
       "      <td>Viking,</td>\n",
       "      <td>1998.</td>\n",
       "      <td>BOOK</td>\n",
       "      <td>London holiday / Richard Peck.Peck, Richard, 1...</td>\n",
       "    </tr>\n",
       "    <tr>\n",
       "      <th>2</th>\n",
       "      <td>3</td>\n",
       "      <td>Physical</td>\n",
       "      <td>Horizon</td>\n",
       "      <td>2005</td>\n",
       "      <td>4</td>\n",
       "      <td>3</td>\n",
       "      <td>Cinco de Mayo : celebrating Hispanic pride / C...</td>\n",
       "      <td>Gnojewski, Carol</td>\n",
       "      <td>Cinco de Mayo Mexican holiday History Juvenile...</td>\n",
       "      <td>Enslow Publishers,</td>\n",
       "      <td>c2002.</td>\n",
       "      <td>BOOK</td>\n",
       "      <td>Cinco de Mayo : celebrating Hispanic pride / C...</td>\n",
       "    </tr>\n",
       "  </tbody>\n",
       "</table>\n",
       "</div>"
      ],
      "text/plain": [
       "   ID UsageClass CheckoutType  CheckoutYear  CheckoutMonth  Checkouts  \\\n",
       "0   1   Physical      Horizon          2005              4          1   \n",
       "1   2   Physical      Horizon          2005              4          1   \n",
       "2   3   Physical      Horizon          2005              4          3   \n",
       "\n",
       "                                               Title               Creator  \\\n",
       "0                                         Tidal wave                         \n",
       "1                     London holiday / Richard Peck.  Peck, Richard, 1934-   \n",
       "2  Cinco de Mayo : celebrating Hispanic pride / C...      Gnojewski, Carol   \n",
       "\n",
       "                                            Subjects           Publisher  \\\n",
       "0             Tsunamis, Tsunamis Juvenile literature                       \n",
       "1                                                                Viking,   \n",
       "2  Cinco de Mayo Mexican holiday History Juvenile...  Enslow Publishers,   \n",
       "\n",
       "  PublicationYear MaterialType  \\\n",
       "0                         BOOK   \n",
       "1           1998.         BOOK   \n",
       "2          c2002.         BOOK   \n",
       "\n",
       "                                            all_text  \n",
       "0  Tidal wave Tsunamis, Tsunamis Juvenile literat...  \n",
       "1  London holiday / Richard Peck.Peck, Richard, 1...  \n",
       "2  Cinco de Mayo : celebrating Hispanic pride / C...  "
      ]
     },
     "execution_count": 11,
     "metadata": {},
     "output_type": "execute_result"
    }
   ],
   "source": [
    "persona_labelled['all_text'] = persona_labelled['Title']+persona_labelled['Creator']+persona_labelled['Subjects']+persona_labelled['Publisher']\n",
    "persona_labelled.head(3)\n"
   ]
  },
  {
   "cell_type": "code",
   "execution_count": 12,
   "metadata": {},
   "outputs": [
    {
     "name": "stdout",
     "output_type": "stream",
     "text": [
      "London holiday / Richard Peck.Peck, Richard, 1934- Viking,\n"
     ]
    },
    {
     "data": {
      "text/plain": [
       "'london holiday richard peck peck richard 1934 viking'"
      ]
     },
     "execution_count": 12,
     "metadata": {},
     "output_type": "execute_result"
    }
   ],
   "source": [
    "#lets have a look at the uncleaned and clean data\n",
    "print (persona_labelled['all_text'][1])\n",
    "uts_.clean_text(persona_labelled['all_text'][1])\n"
   ]
  },
  {
   "cell_type": "code",
   "execution_count": 13,
   "metadata": {},
   "outputs": [],
   "source": [
    "persona_labelled['all_text'] = persona_labelled['all_text'].map(uts_.clean_text)"
   ]
  },
  {
   "cell_type": "code",
   "execution_count": 14,
   "metadata": {},
   "outputs": [
    {
     "data": {
      "text/html": [
       "<div>\n",
       "<style scoped>\n",
       "    .dataframe tbody tr th:only-of-type {\n",
       "        vertical-align: middle;\n",
       "    }\n",
       "\n",
       "    .dataframe tbody tr th {\n",
       "        vertical-align: top;\n",
       "    }\n",
       "\n",
       "    .dataframe thead th {\n",
       "        text-align: right;\n",
       "    }\n",
       "</style>\n",
       "<table border=\"1\" class=\"dataframe\">\n",
       "  <thead>\n",
       "    <tr style=\"text-align: right;\">\n",
       "      <th></th>\n",
       "      <th>ID</th>\n",
       "      <th>UsageClass</th>\n",
       "      <th>CheckoutType</th>\n",
       "      <th>CheckoutYear</th>\n",
       "      <th>CheckoutMonth</th>\n",
       "      <th>Checkouts</th>\n",
       "      <th>Title</th>\n",
       "      <th>Creator</th>\n",
       "      <th>Subjects</th>\n",
       "      <th>Publisher</th>\n",
       "      <th>PublicationYear</th>\n",
       "      <th>MaterialType</th>\n",
       "      <th>all_text</th>\n",
       "    </tr>\n",
       "  </thead>\n",
       "  <tbody>\n",
       "    <tr>\n",
       "      <th>0</th>\n",
       "      <td>1</td>\n",
       "      <td>Physical</td>\n",
       "      <td>Horizon</td>\n",
       "      <td>2005</td>\n",
       "      <td>4</td>\n",
       "      <td>1</td>\n",
       "      <td>Tidal wave</td>\n",
       "      <td></td>\n",
       "      <td>Tsunamis, Tsunamis Juvenile literature</td>\n",
       "      <td></td>\n",
       "      <td></td>\n",
       "      <td>BOOK</td>\n",
       "      <td>tidal wave tsunamis tsunamis juvenile literature</td>\n",
       "    </tr>\n",
       "    <tr>\n",
       "      <th>1</th>\n",
       "      <td>2</td>\n",
       "      <td>Physical</td>\n",
       "      <td>Horizon</td>\n",
       "      <td>2005</td>\n",
       "      <td>4</td>\n",
       "      <td>1</td>\n",
       "      <td>London holiday / Richard Peck.</td>\n",
       "      <td>Peck, Richard, 1934-</td>\n",
       "      <td></td>\n",
       "      <td>Viking,</td>\n",
       "      <td>1998.</td>\n",
       "      <td>BOOK</td>\n",
       "      <td>london holiday richard peck peck richard 1934 ...</td>\n",
       "    </tr>\n",
       "    <tr>\n",
       "      <th>2</th>\n",
       "      <td>3</td>\n",
       "      <td>Physical</td>\n",
       "      <td>Horizon</td>\n",
       "      <td>2005</td>\n",
       "      <td>4</td>\n",
       "      <td>3</td>\n",
       "      <td>Cinco de Mayo : celebrating Hispanic pride / C...</td>\n",
       "      <td>Gnojewski, Carol</td>\n",
       "      <td>Cinco de Mayo Mexican holiday History Juvenile...</td>\n",
       "      <td>Enslow Publishers,</td>\n",
       "      <td>c2002.</td>\n",
       "      <td>BOOK</td>\n",
       "      <td>cinco de mayo celebrating hispanic pride carol...</td>\n",
       "    </tr>\n",
       "  </tbody>\n",
       "</table>\n",
       "</div>"
      ],
      "text/plain": [
       "   ID UsageClass CheckoutType  CheckoutYear  CheckoutMonth  Checkouts  \\\n",
       "0   1   Physical      Horizon          2005              4          1   \n",
       "1   2   Physical      Horizon          2005              4          1   \n",
       "2   3   Physical      Horizon          2005              4          3   \n",
       "\n",
       "                                               Title               Creator  \\\n",
       "0                                         Tidal wave                         \n",
       "1                     London holiday / Richard Peck.  Peck, Richard, 1934-   \n",
       "2  Cinco de Mayo : celebrating Hispanic pride / C...      Gnojewski, Carol   \n",
       "\n",
       "                                            Subjects           Publisher  \\\n",
       "0             Tsunamis, Tsunamis Juvenile literature                       \n",
       "1                                                                Viking,   \n",
       "2  Cinco de Mayo Mexican holiday History Juvenile...  Enslow Publishers,   \n",
       "\n",
       "  PublicationYear MaterialType  \\\n",
       "0                         BOOK   \n",
       "1           1998.         BOOK   \n",
       "2          c2002.         BOOK   \n",
       "\n",
       "                                            all_text  \n",
       "0   tidal wave tsunamis tsunamis juvenile literature  \n",
       "1  london holiday richard peck peck richard 1934 ...  \n",
       "2  cinco de mayo celebrating hispanic pride carol...  "
      ]
     },
     "execution_count": 14,
     "metadata": {},
     "output_type": "execute_result"
    }
   ],
   "source": [
    "persona_labelled.head(3)"
   ]
  },
  {
   "cell_type": "code",
   "execution_count": 15,
   "metadata": {},
   "outputs": [
    {
     "data": {
      "text/html": [
       "<div>\n",
       "<style scoped>\n",
       "    .dataframe tbody tr th:only-of-type {\n",
       "        vertical-align: middle;\n",
       "    }\n",
       "\n",
       "    .dataframe tbody tr th {\n",
       "        vertical-align: top;\n",
       "    }\n",
       "\n",
       "    .dataframe thead th {\n",
       "        text-align: right;\n",
       "    }\n",
       "</style>\n",
       "<table border=\"1\" class=\"dataframe\">\n",
       "  <thead>\n",
       "    <tr style=\"text-align: right;\">\n",
       "      <th></th>\n",
       "      <th>ID</th>\n",
       "      <th>UsageClass</th>\n",
       "      <th>CheckoutType</th>\n",
       "      <th>CheckoutYear</th>\n",
       "      <th>CheckoutMonth</th>\n",
       "      <th>Checkouts</th>\n",
       "      <th>Title</th>\n",
       "      <th>Creator</th>\n",
       "      <th>Subjects</th>\n",
       "      <th>Publisher</th>\n",
       "      <th>PublicationYear</th>\n",
       "      <th>all_text</th>\n",
       "    </tr>\n",
       "  </thead>\n",
       "  <tbody>\n",
       "    <tr>\n",
       "      <th>0</th>\n",
       "      <td>31654</td>\n",
       "      <td>Physical</td>\n",
       "      <td>Horizon</td>\n",
       "      <td>2005</td>\n",
       "      <td>4</td>\n",
       "      <td>1</td>\n",
       "      <td>Footprints at the window</td>\n",
       "      <td></td>\n",
       "      <td>England Fiction, Space and time Fiction</td>\n",
       "      <td></td>\n",
       "      <td></td>\n",
       "      <td>footprints at the window england fiction space...</td>\n",
       "    </tr>\n",
       "    <tr>\n",
       "      <th>1</th>\n",
       "      <td>31655</td>\n",
       "      <td>Physical</td>\n",
       "      <td>Horizon</td>\n",
       "      <td>2005</td>\n",
       "      <td>4</td>\n",
       "      <td>2</td>\n",
       "      <td>Seven brides for seven brothers</td>\n",
       "      <td></td>\n",
       "      <td>Video recordings for the hearing impaired, Mus...</td>\n",
       "      <td></td>\n",
       "      <td></td>\n",
       "      <td>seven brides for seven brothers video recordin...</td>\n",
       "    </tr>\n",
       "    <tr>\n",
       "      <th>2</th>\n",
       "      <td>31656</td>\n",
       "      <td>Physical</td>\n",
       "      <td>Horizon</td>\n",
       "      <td>2005</td>\n",
       "      <td>4</td>\n",
       "      <td>2</td>\n",
       "      <td>History [sound recording] / Loudon Wainwright ...</td>\n",
       "      <td>Wainwright, Loudon, III, 1946-</td>\n",
       "      <td>Popular music 1991 2000</td>\n",
       "      <td>Charisma,</td>\n",
       "      <td>p1992.</td>\n",
       "      <td>history sound recording loudon wainwright iii ...</td>\n",
       "    </tr>\n",
       "  </tbody>\n",
       "</table>\n",
       "</div>"
      ],
      "text/plain": [
       "      ID UsageClass CheckoutType  CheckoutYear  CheckoutMonth  Checkouts  \\\n",
       "0  31654   Physical      Horizon          2005              4          1   \n",
       "1  31655   Physical      Horizon          2005              4          2   \n",
       "2  31656   Physical      Horizon          2005              4          2   \n",
       "\n",
       "                                               Title  \\\n",
       "0                           Footprints at the window   \n",
       "1                    Seven brides for seven brothers   \n",
       "2  History [sound recording] / Loudon Wainwright ...   \n",
       "\n",
       "                          Creator  \\\n",
       "0                                   \n",
       "1                                   \n",
       "2  Wainwright, Loudon, III, 1946-   \n",
       "\n",
       "                                            Subjects  Publisher  \\\n",
       "0            England Fiction, Space and time Fiction              \n",
       "1  Video recordings for the hearing impaired, Mus...              \n",
       "2                            Popular music 1991 2000  Charisma,   \n",
       "\n",
       "  PublicationYear                                           all_text  \n",
       "0                  footprints at the window england fiction space...  \n",
       "1                  seven brides for seven brothers video recordin...  \n",
       "2          p1992.  history sound recording loudon wainwright iii ...  "
      ]
     },
     "execution_count": 15,
     "metadata": {},
     "output_type": "execute_result"
    }
   ],
   "source": [
    "test_data['all_text'] = test_data['Title']+test_data['Creator']+test_data['Subjects']+test_data['Publisher']\n",
    "test_data['all_text'] = test_data['all_text'].map(uts_.clean_text)\n",
    "test_data.head(3)"
   ]
  },
  {
   "cell_type": "code",
   "execution_count": 16,
   "metadata": {},
   "outputs": [
    {
     "data": {
      "text/html": [
       "<div>\n",
       "<style scoped>\n",
       "    .dataframe tbody tr th:only-of-type {\n",
       "        vertical-align: middle;\n",
       "    }\n",
       "\n",
       "    .dataframe tbody tr th {\n",
       "        vertical-align: top;\n",
       "    }\n",
       "\n",
       "    .dataframe thead th {\n",
       "        text-align: right;\n",
       "    }\n",
       "</style>\n",
       "<table border=\"1\" class=\"dataframe\">\n",
       "  <thead>\n",
       "    <tr style=\"text-align: right;\">\n",
       "      <th></th>\n",
       "      <th>ID</th>\n",
       "      <th>UsageClass</th>\n",
       "      <th>CheckoutType</th>\n",
       "      <th>CheckoutYear</th>\n",
       "      <th>CheckoutMonth</th>\n",
       "      <th>Checkouts</th>\n",
       "      <th>Title</th>\n",
       "      <th>Creator</th>\n",
       "      <th>Subjects</th>\n",
       "      <th>Publisher</th>\n",
       "      <th>PublicationYear</th>\n",
       "      <th>MaterialType</th>\n",
       "      <th>all_text</th>\n",
       "      <th>target_map</th>\n",
       "    </tr>\n",
       "  </thead>\n",
       "  <tbody>\n",
       "    <tr>\n",
       "      <th>0</th>\n",
       "      <td>1</td>\n",
       "      <td>Physical</td>\n",
       "      <td>Horizon</td>\n",
       "      <td>2005</td>\n",
       "      <td>4</td>\n",
       "      <td>1</td>\n",
       "      <td>Tidal wave</td>\n",
       "      <td></td>\n",
       "      <td>Tsunamis, Tsunamis Juvenile literature</td>\n",
       "      <td></td>\n",
       "      <td></td>\n",
       "      <td>BOOK</td>\n",
       "      <td>tidal wave tsunamis tsunamis juvenile literature</td>\n",
       "      <td>0</td>\n",
       "    </tr>\n",
       "    <tr>\n",
       "      <th>1</th>\n",
       "      <td>2</td>\n",
       "      <td>Physical</td>\n",
       "      <td>Horizon</td>\n",
       "      <td>2005</td>\n",
       "      <td>4</td>\n",
       "      <td>1</td>\n",
       "      <td>London holiday / Richard Peck.</td>\n",
       "      <td>Peck, Richard, 1934-</td>\n",
       "      <td></td>\n",
       "      <td>Viking,</td>\n",
       "      <td>1998.</td>\n",
       "      <td>BOOK</td>\n",
       "      <td>london holiday richard peck peck richard 1934 ...</td>\n",
       "      <td>0</td>\n",
       "    </tr>\n",
       "    <tr>\n",
       "      <th>2</th>\n",
       "      <td>3</td>\n",
       "      <td>Physical</td>\n",
       "      <td>Horizon</td>\n",
       "      <td>2005</td>\n",
       "      <td>4</td>\n",
       "      <td>3</td>\n",
       "      <td>Cinco de Mayo : celebrating Hispanic pride / C...</td>\n",
       "      <td>Gnojewski, Carol</td>\n",
       "      <td>Cinco de Mayo Mexican holiday History Juvenile...</td>\n",
       "      <td>Enslow Publishers,</td>\n",
       "      <td>c2002.</td>\n",
       "      <td>BOOK</td>\n",
       "      <td>cinco de mayo celebrating hispanic pride carol...</td>\n",
       "      <td>0</td>\n",
       "    </tr>\n",
       "  </tbody>\n",
       "</table>\n",
       "</div>"
      ],
      "text/plain": [
       "   ID UsageClass CheckoutType  CheckoutYear  CheckoutMonth  Checkouts  \\\n",
       "0   1   Physical      Horizon          2005              4          1   \n",
       "1   2   Physical      Horizon          2005              4          1   \n",
       "2   3   Physical      Horizon          2005              4          3   \n",
       "\n",
       "                                               Title               Creator  \\\n",
       "0                                         Tidal wave                         \n",
       "1                     London holiday / Richard Peck.  Peck, Richard, 1934-   \n",
       "2  Cinco de Mayo : celebrating Hispanic pride / C...      Gnojewski, Carol   \n",
       "\n",
       "                                            Subjects           Publisher  \\\n",
       "0             Tsunamis, Tsunamis Juvenile literature                       \n",
       "1                                                                Viking,   \n",
       "2  Cinco de Mayo Mexican holiday History Juvenile...  Enslow Publishers,   \n",
       "\n",
       "  PublicationYear MaterialType  \\\n",
       "0                         BOOK   \n",
       "1           1998.         BOOK   \n",
       "2          c2002.         BOOK   \n",
       "\n",
       "                                            all_text  target_map  \n",
       "0   tidal wave tsunamis tsunamis juvenile literature           0  \n",
       "1  london holiday richard peck peck richard 1934 ...           0  \n",
       "2  cinco de mayo celebrating hispanic pride carol...           0  "
      ]
     },
     "execution_count": 16,
     "metadata": {},
     "output_type": "execute_result"
    }
   ],
   "source": [
    "#Mapping the target to numbers, automated target creation\n",
    "persona_labelled,map_target = uts_.map_to_target('MaterialType',persona_labelled)\n",
    "persona_labelled.head(3)"
   ]
  },
  {
   "cell_type": "markdown",
   "metadata": {},
   "source": [
    "# Corpus Inspection and Data Understanding\n",
    "1. Look at the corpus, find the number of unique words, frequency of those words\n"
   ]
  },
  {
   "cell_type": "code",
   "execution_count": 17,
   "metadata": {},
   "outputs": [
    {
     "name": "stdout",
     "output_type": "stream",
     "text": [
      "Building features on 40k popular words\n",
      "Performing Dimensionality Reduction\n"
     ]
    },
    {
     "data": {
      "image/png": "[encoded data removed]",
      "text/plain": [
       "<Figure size 864x576 with 1 Axes>"
      ]
     },
     "metadata": {
      "needs_background": "light"
     },
     "output_type": "display_data"
    }
   ],
   "source": [
    "all_text_data = persona_labelled['all_text'].tolist()\n",
    "X=uts_.corpus_inspection_data_understanding(all_text_data,persona_labelled,target_col='MaterialType')"
   ]
  },
  {
   "cell_type": "markdown",
   "metadata": {},
   "source": [
    "# Observation:\n",
    "1. The points are not that well separated, meaning it would be tough to define decision boundaries between different classes\n",
    "2. Lets try lgbm Classifier "
   ]
  },
  {
   "cell_type": "code",
   "execution_count": 56,
   "metadata": {},
   "outputs": [],
   "source": [
    "clf = lgb.LGBMClassifier(boosting_type='goss',class_weight='balanced',drop_rate=0.9, min_data_in_leaf=100, max_bin=255,\n",
    "                                 n_estimators=500,min_sum_hessian_in_leaf=1,importance_type='gain',learning_rate=0.005,bagging_fraction = 0.85,\n",
    "                                 colsample_bytree = 1.0,feature_fraction = 0.1,\n",
    "                                 min_child_samples = 55,min_child_weight = 5.0,min_split_gain = 0.1,subsample = 0.75,reg_alpha=0.5) "
   ]
  },
  {
   "cell_type": "code",
   "execution_count": 57,
   "metadata": {},
   "outputs": [
    {
     "name": "stdout",
     "output_type": "stream",
     "text": [
      "Average F1,Accuracy: 0.4251415016150223 0.5608640238249439\n"
     ]
    },
    {
     "data": {
      "image/png": "[encoded data removed]",
      "text/plain": [
       "<Figure size 1440x720 with 1 Axes>"
      ]
     },
     "metadata": {
      "needs_background": "light"
     },
     "output_type": "display_data"
    }
   ],
   "source": [
    "y=persona_labelled['target_map'].values\n",
    "uts_.fitting_white_box_models(clf,X,y)"
   ]
  },
  {
   "cell_type": "markdown",
   "metadata": {},
   "source": [
    "# Observation:\n",
    "1. Lgbm has a hard time classifying, as we can see. The F1 score and accuracy are well below the expectations.\n",
    "2. One of the reasons could be that lgbm has a cannot design the decision boundaries properly as we can see from PCA"
   ]
  },
  {
   "cell_type": "markdown",
   "metadata": {},
   "source": [
    "# NN Model\n",
    "We draw a simple sequence to sequence architecture model with GloVe embeddings. We have transfer learning techniques in Image Modelling, but sadly we don't have such in text, though we have Bert released recently, and has got some amazing results but industry wise acception is still required.\n",
    "\n",
    "The newtwork learns in different ways, with more than millions of parameters we are likely to get a better prediction."
   ]
  },
  {
   "cell_type": "code",
   "execution_count": 105,
   "metadata": {},
   "outputs": [
    {
     "data": {
      "image/png": "[encoded data removed]",
      "text/plain": [
       "<Figure size 1440x720 with 1 Axes>"
      ]
     },
     "metadata": {
      "needs_background": "light"
     },
     "output_type": "display_data"
    }
   ],
   "source": [
    "most_comm,corpus = uts_.corpus_details(all_text_data)"
   ]
  },
  {
   "cell_type": "markdown",
   "metadata": {},
   "source": [
    "# Observations:\n",
    "1. The sentences hardly have any continuity and that's likely since the dataset comprises of authors and titles. Combining them into a single text gives us the upperhand of recognizing which authors can be easily associated with Book."
   ]
  },
  {
   "cell_type": "markdown",
   "metadata": {},
   "source": [
    "# Hyperparams\n",
    "Hyperparams are those params which we can tune to increase or decrease the model performance.\n",
    "\n",
    "Explanation of each Hyperparam:\n",
    "\n",
    "MAX_SEQUENCE_LENGTH: It's the max length of the sequence that is derived from sentence, this can be looked at by observing the maximum length of the sentence\n",
    "\n",
    "MAX_NB_WORDS: The more number of word we associate the more the network learns for now we are associating around 95% of the words\n",
    "\n",
    "EMBEDDING_DIM: The dimension of each word that we want, usually it's 300 but it can change depending on the embeddings we select.\n",
    "\n",
    "BATCH_SIZE: It's the number of training size to be taken at a given time."
   ]
  },
  {
   "cell_type": "code",
   "execution_count": 19,
   "metadata": {},
   "outputs": [],
   "source": [
    "#We take the 40000 words that have been used for creating the model\n",
    "MAX_SEQUENCE_LENGTH = 200\n",
    "MAX_NB_WORDS = 44000\n",
    "EMBEDDING_DIM = 300\n",
    "BATCH_SIZE = 256"
   ]
  },
  {
   "cell_type": "markdown",
   "metadata": {},
   "source": [
    "# One Hot Encoding Of The Target:\n",
    "\n",
    "What is it?\n",
    "\n",
    "One hot encoding basically refers to representing a word/target by 1 while the rest of the elements in the array are 0.\n",
    "\n",
    "For ex: ['I', 'love', 'cream'],['I', 'hate', 'ice'], if we want to hot encode 'I', it would be :[1,0,0,0,0]\n",
    "\n",
    "Why is it needed?\n",
    "\n",
    "One hot encoding is necessary for the outputs to be in softmax probabilies form. Basically the network gives output for each sentence in a probabilistic form whose sum is always 1.\n",
    "\n",
    "\n",
    "<img src=\"imagemap.jpg\">\n",
    "\n"
   ]
  },
  {
   "cell_type": "code",
   "execution_count": 20,
   "metadata": {},
   "outputs": [
    {
     "name": "stdout",
     "output_type": "stream",
     "text": [
      "31653\n"
     ]
    },
    {
     "data": {
      "text/plain": [
       "array([1., 0., 0., 0., 0., 0., 0., 0.], dtype=float32)"
      ]
     },
     "execution_count": 20,
     "metadata": {},
     "output_type": "execute_result"
    }
   ],
   "source": [
    "encoded = uts_.one_hot_encoding(data=persona_labelled,target_column='target_map')\n",
    "encoded[0]"
   ]
  },
  {
   "cell_type": "code",
   "execution_count": 21,
   "metadata": {},
   "outputs": [],
   "source": [
    "## split to train and val\n",
    "all_sents = persona_labelled['all_text'].tolist()\n",
    "\n",
    "X_train, X_test, y_train, y_test = train_test_split(all_sents, encoded, test_size=0.1)"
   ]
  },
  {
   "cell_type": "code",
   "execution_count": 22,
   "metadata": {},
   "outputs": [
    {
     "data": {
      "text/plain": [
       "28487"
      ]
     },
     "execution_count": 22,
     "metadata": {},
     "output_type": "execute_result"
    }
   ],
   "source": [
    "len(X_train)"
   ]
  },
  {
   "cell_type": "markdown",
   "metadata": {},
   "source": [
    "# Arcitecture of The Model\n",
    "We have designed a simple sequence to sequence model with features derived from external embeddings of GloVe.\n",
    "\n",
    "<img src=\"m1.png\">\n"
   ]
  },
  {
   "cell_type": "code",
   "execution_count": 87,
   "metadata": {},
   "outputs": [],
   "source": [
    "## Tokenize the sentences\n",
    "tokenizer = Tokenizer(num_words=MAX_NB_WORDS)\n",
    "tokenizer.fit_on_texts(all_sents)\n",
    "train_X = tokenizer.texts_to_sequences(X_train)\n",
    "val_X = tokenizer.texts_to_sequences(X_test)\n",
    "test_sents = test_data['all_text'].tolist()\n",
    "test_X = tokenizer.texts_to_sequences(test_sents)"
   ]
  },
  {
   "cell_type": "code",
   "execution_count": 88,
   "metadata": {},
   "outputs": [
    {
     "name": "stdout",
     "output_type": "stream",
     "text": [
      "An example of tokenized sentence:\n",
      "[6824, 12, 2, 9158, 31, 1, 988, 1]\n"
     ]
    }
   ],
   "source": [
    "print (\"An example of tokenized sentence:\")\n",
    "print (train_X[0])"
   ]
  },
  {
   "cell_type": "raw",
   "metadata": {},
   "source": [
    "Each sentence has different length and so we would need to pad the sentence to make all the sentences of equal length"
   ]
  },
  {
   "cell_type": "code",
   "execution_count": 89,
   "metadata": {},
   "outputs": [],
   "source": [
    "## Pad the sentences \n",
    "train_X = pad_sequences(train_X, maxlen=MAX_SEQUENCE_LENGTH)\n",
    "val_X = pad_sequences(val_X, maxlen=MAX_SEQUENCE_LENGTH)\n",
    "test_X = pad_sequences(test_X,maxlen=MAX_SEQUENCE_LENGTH)\n",
    "\n",
    "## Get the target values\n",
    "train_y = y_train\n",
    "val_y = y_test"
   ]
  },
  {
   "cell_type": "code",
   "execution_count": 90,
   "metadata": {},
   "outputs": [
    {
     "name": "stdout",
     "output_type": "stream",
     "text": [
      "An example of tokenized and padded sentence:\n",
      "[   0    0    0    0    0    0    0    0    0    0    0    0    0    0\n",
      "    0    0    0    0    0    0    0    0    0    0    0    0    0    0\n",
      "    0    0    0    0    0    0    0    0    0    0    0    0    0    0\n",
      "    0    0    0    0    0    0    0    0    0    0    0    0    0    0\n",
      "    0    0    0    0    0    0    0    0    0    0    0    0    0    0\n",
      "    0    0    0    0    0    0    0    0    0    0    0    0    0    0\n",
      "    0    0    0    0    0    0    0    0    0    0    0    0    0    0\n",
      "    0    0    0    0    0    0    0    0    0    0    0    0    0    0\n",
      "    0    0    0    0    0    0    0    0    0    0    0    0    0    0\n",
      "    0    0    0    0    0    0    0    0    0    0    0    0    0    0\n",
      "    0    0    0    0    0    0    0    0    0    0    0    0    0    0\n",
      "    0    0    0    0    0    0    0    0    0    0    0    0    0    0\n",
      "    0    0    0    0    0    0    0    0    0    0    0    0    0    0\n",
      "    0    0    0    0    0    0    0    0    0    0 6824   12    2 9158\n",
      "   31    1  988    1]\n"
     ]
    }
   ],
   "source": [
    "print (\"An example of tokenized and padded sentence:\")\n",
    "print (train_X[0])"
   ]
  },
  {
   "cell_type": "code",
   "execution_count": 26,
   "metadata": {},
   "outputs": [
    {
     "name": "stdout",
     "output_type": "stream",
     "text": [
      "(44000, 300)\n"
     ]
    }
   ],
   "source": [
    "#Use glove embeddings, we can further improve the result with taking various average embeddings of fasttext, paragram\n",
    "embedding_matrix,embed_size,embeddings_index = uts_.create_embedding_matrix(MAX_NB_WORDS,tokenizer)\n",
    "print (embedding_matrix.shape)"
   ]
  },
  {
   "cell_type": "code",
   "execution_count": 91,
   "metadata": {},
   "outputs": [
    {
     "name": "stdout",
     "output_type": "stream",
     "text": [
      "Percentage of Word Vectors Acquired From Glove Embeddings: 1.3717106925857132\n"
     ]
    }
   ],
   "source": [
    "all_emb_keys = list(embeddings_index.keys())\n",
    "word_ind_keys = tokenizer.word_index.keys()\n",
    "count =0\n",
    "words_not_found =[]\n",
    "for k in word_ind_keys:\n",
    "    if k in all_emb_keys:\n",
    "        count = count+1\n",
    "    else:\n",
    "        words_not_found.append(k)\n",
    "print ('Percentage of Word Vectors Acquired From Glove Embeddings:',100.0*count/len(all_emb_keys))"
   ]
  },
  {
   "cell_type": "markdown",
   "metadata": {},
   "source": [
    "# Imagining Word vectors\n",
    "\n",
    "<img src=\"vec.png\">"
   ]
  },
  {
   "cell_type": "markdown",
   "metadata": {},
   "source": [
    "A visualization with the help of tensorflow projector on how similar are different words. Here we have selected a subject \"fantasy fiction\" and show the most similar subjects that come up. "
   ]
  },
  {
   "cell_type": "code",
   "execution_count": 81,
   "metadata": {},
   "outputs": [
    {
     "name": "stdout",
     "output_type": "stream",
     "text": [
      "_________________________________________________________________\n",
      "Layer (type)                 Output Shape              Param #   \n",
      "=================================================================\n",
      "input_3 (InputLayer)         (None, 200)               0         \n",
      "_________________________________________________________________\n",
      "embedding_3 (Embedding)      (None, 200, 300)          13200000  \n",
      "_________________________________________________________________\n",
      "bidirectional_3 (Bidirection (None, 200, 128)          186880    \n",
      "_________________________________________________________________\n",
      "global_max_pooling1d_3 (Glob (None, 128)               0         \n",
      "_________________________________________________________________\n",
      "dense_5 (Dense)              (None, 256)               33024     \n",
      "_________________________________________________________________\n",
      "dropout_3 (Dropout)          (None, 256)               0         \n",
      "_________________________________________________________________\n",
      "dense_6 (Dense)              (None, 8)                 2056      \n",
      "=================================================================\n",
      "Total params: 13,421,960\n",
      "Trainable params: 13,421,960\n",
      "Non-trainable params: 0\n",
      "_________________________________________________________________\n",
      "None\n"
     ]
    }
   ],
   "source": [
    "model = uts_.create_model(MAX_SEQUENCE_LENGTH,MAX_NB_WORDS,embedding_matrix,embed_size,activation='relu',output_class=8)"
   ]
  },
  {
   "cell_type": "raw",
   "metadata": {},
   "source": [
    "We create  a model checkpoint, the model saves the earlier model if it has better accuracy"
   ]
  },
  {
   "cell_type": "code",
   "execution_count": 82,
   "metadata": {},
   "outputs": [],
   "source": [
    "filepath=\"weights-improvement-{epoch:02d}-{val_acc:.2f}.hdf5\"\n",
    "checkpoint = ModelCheckpoint(filepath, monitor='val_acc', verbose=1, save_best_only=True, mode='max')"
   ]
  },
  {
   "cell_type": "markdown",
   "metadata": {},
   "source": [
    "# Innovative Application\n",
    "\n",
    "Keras doesnt has a F1 score implementation in terms of measuring accuracy, I had to implement F1-score (macro) to be fit in Keras accuracy testing model"
   ]
  },
  {
   "cell_type": "code",
   "execution_count": 83,
   "metadata": {},
   "outputs": [
    {
     "name": "stdout",
     "output_type": "stream",
     "text": [
      "Train on 28487 samples, validate on 3166 samples\n",
      "Epoch 1/5\n",
      "28487/28487 [==============================] - 215s 8ms/step - loss: 0.7742 - acc: 0.7932 - f1: 0.7610 - val_loss: 0.4480 - val_acc: 0.8658 - val_f1: 0.8702\n",
      "\n",
      "Epoch 00001: val_acc improved from -inf to 0.86576, saving model to weights-improvement-01-0.87.hdf5\n",
      "Epoch 2/5\n",
      "28487/28487 [==============================] - 216s 8ms/step - loss: 0.4470 - acc: 0.8724 - f1: 0.8689 - val_loss: 0.3740 - val_acc: 0.8850 - val_f1: 0.8821\n",
      "\n",
      "Epoch 00002: val_acc improved from 0.86576 to 0.88503, saving model to weights-improvement-02-0.89.hdf5\n",
      "Epoch 3/5\n",
      "28487/28487 [==============================] - 191s 7ms/step - loss: 0.3546 - acc: 0.8921 - f1: 0.8896 - val_loss: 0.3672 - val_acc: 0.8866 - val_f1: 0.8878\n",
      "\n",
      "Epoch 00003: val_acc improved from 0.88503 to 0.88661, saving model to weights-improvement-03-0.89.hdf5\n",
      "Epoch 4/5\n",
      "28487/28487 [==============================] - 189s 7ms/step - loss: 0.2869 - acc: 0.9051 - f1: 0.9058 - val_loss: 0.3758 - val_acc: 0.8869 - val_f1: 0.8865\n",
      "\n",
      "Epoch 00004: val_acc improved from 0.88661 to 0.88692, saving model to weights-improvement-04-0.89.hdf5\n",
      "Epoch 5/5\n",
      "28487/28487 [==============================] - 188s 7ms/step - loss: 0.2266 - acc: 0.9198 - f1: 0.9216 - val_loss: 0.4340 - val_acc: 0.8904 - val_f1: 0.8886\n",
      "\n",
      "Epoch 00005: val_acc improved from 0.88692 to 0.89040, saving model to weights-improvement-05-0.89.hdf5\n"
     ]
    }
   ],
   "source": [
    "history = model.fit(train_X, train_y, batch_size=BATCH_SIZE, epochs=5, validation_data=(val_X, val_y),callbacks=[checkpoint])"
   ]
  },
  {
   "cell_type": "code",
   "execution_count": 84,
   "metadata": {},
   "outputs": [
    {
     "name": "stdout",
     "output_type": "stream",
     "text": [
      "dict_keys(['val_loss', 'val_acc', 'val_f1', 'loss', 'acc', 'f1'])\n"
     ]
    }
   ],
   "source": [
    "print (history.history.keys())"
   ]
  },
  {
   "cell_type": "raw",
   "metadata": {},
   "source": [
    "Voila !! We have successfully managed to add f1 score though keras backend."
   ]
  },
  {
   "cell_type": "markdown",
   "metadata": {},
   "source": [
    "# Model Analysis\n",
    "Let's look at the model's performance\n"
   ]
  },
  {
   "cell_type": "code",
   "execution_count": 85,
   "metadata": {},
   "outputs": [
    {
     "data": {
      "image/png": "[encoded data removed]",
      "text/plain": [
       "<Figure size 1440x720 with 1 Axes>"
      ]
     },
     "metadata": {
      "needs_background": "light"
     },
     "output_type": "display_data"
    },
    {
     "data": {
      "text/plain": [
       "<Figure size 432x288 with 0 Axes>"
      ]
     },
     "metadata": {},
     "output_type": "display_data"
    }
   ],
   "source": [
    "plt.figure(figsize=(20,10))\n",
    "val_loss = history.history['val_loss']\n",
    "loss = history.history['loss']\n",
    "epochs = range(len(val_loss))\n",
    "plt.plot(epochs, loss, 'r', label='Training loss')\n",
    "plt.plot(epochs, val_loss, 'b', label='Validation loss')\n",
    "plt.ylim(0.2,0.5)\n",
    "plt.title('Training and validation loss')\n",
    "plt.legend(loc=0)\n",
    "plt.figure()\n",
    "plt.show()\n"
   ]
  },
  {
   "cell_type": "code",
   "execution_count": 86,
   "metadata": {},
   "outputs": [
    {
     "data": {
      "image/png": "[encoded data removed]",
      "text/plain": [
       "<Figure size 1440x720 with 1 Axes>"
      ]
     },
     "metadata": {
      "needs_background": "light"
     },
     "output_type": "display_data"
    },
    {
     "data": {
      "text/plain": [
       "<Figure size 432x288 with 0 Axes>"
      ]
     },
     "metadata": {},
     "output_type": "display_data"
    }
   ],
   "source": [
    "plt.figure(figsize=(20,10))\n",
    "val_acc = history.history['val_acc']\n",
    "acc = history.history['acc']\n",
    "f1 = history.history['f1']\n",
    "plt.plot(epochs, val_acc,'g',label='Validation Accuracy')\n",
    "plt.plot(epochs, acc,'k',label='Accuracy')\n",
    "plt.plot(epochs, f1,'y',label='F1 Score')\n",
    "plt.title('Training and Validation  and Accuracies')\n",
    "plt.ylim(0.85,1.0,0.05)\n",
    "plt.legend(loc='best')\n",
    "plt.figure()\n",
    "plt.show()"
   ]
  },
  {
   "cell_type": "markdown",
   "metadata": {},
   "source": [
    "# Prediction and Submission\n",
    "Prediction on the best model saved, around 89% of accuracy can be reached if we train on 10 epochs, in one of the model training I had achieved 89%, which I had saved for future use."
   ]
  },
  {
   "cell_type": "code",
   "execution_count": 71,
   "metadata": {},
   "outputs": [],
   "source": [
    "from keras.models import load_model\n",
    "model=load_model('main_05-0.89.hdf5')"
   ]
  },
  {
   "cell_type": "code",
   "execution_count": 72,
   "metadata": {},
   "outputs": [
    {
     "name": "stdout",
     "output_type": "stream",
     "text": [
      "21102/21102 [==============================] - 45s 2ms/step\n"
     ]
    }
   ],
   "source": [
    "predicted_= model.predict(test_X,batch_size=32,verbose=1)"
   ]
  },
  {
   "cell_type": "code",
   "execution_count": 73,
   "metadata": {},
   "outputs": [],
   "source": [
    "map_target_rev ={v: k for k, v in map_target.items()}"
   ]
  },
  {
   "cell_type": "code",
   "execution_count": 74,
   "metadata": {},
   "outputs": [
    {
     "data": {
      "text/html": [
       "<div>\n",
       "<style scoped>\n",
       "    .dataframe tbody tr th:only-of-type {\n",
       "        vertical-align: middle;\n",
       "    }\n",
       "\n",
       "    .dataframe tbody tr th {\n",
       "        vertical-align: top;\n",
       "    }\n",
       "\n",
       "    .dataframe thead th {\n",
       "        text-align: right;\n",
       "    }\n",
       "</style>\n",
       "<table border=\"1\" class=\"dataframe\">\n",
       "  <thead>\n",
       "    <tr style=\"text-align: right;\">\n",
       "      <th></th>\n",
       "      <th>ID</th>\n",
       "      <th>UsageClass</th>\n",
       "      <th>CheckoutType</th>\n",
       "      <th>CheckoutYear</th>\n",
       "      <th>CheckoutMonth</th>\n",
       "      <th>Checkouts</th>\n",
       "      <th>Title</th>\n",
       "      <th>Creator</th>\n",
       "      <th>Subjects</th>\n",
       "      <th>Publisher</th>\n",
       "      <th>PublicationYear</th>\n",
       "      <th>all_text</th>\n",
       "      <th>MaterialType</th>\n",
       "    </tr>\n",
       "  </thead>\n",
       "  <tbody>\n",
       "    <tr>\n",
       "      <th>0</th>\n",
       "      <td>31654</td>\n",
       "      <td>Physical</td>\n",
       "      <td>Horizon</td>\n",
       "      <td>2005</td>\n",
       "      <td>4</td>\n",
       "      <td>1</td>\n",
       "      <td>Footprints at the window</td>\n",
       "      <td></td>\n",
       "      <td>England Fiction, Space and time Fiction</td>\n",
       "      <td></td>\n",
       "      <td></td>\n",
       "      <td>footprints at the window england fiction space...</td>\n",
       "      <td>BOOK</td>\n",
       "    </tr>\n",
       "    <tr>\n",
       "      <th>1</th>\n",
       "      <td>31655</td>\n",
       "      <td>Physical</td>\n",
       "      <td>Horizon</td>\n",
       "      <td>2005</td>\n",
       "      <td>4</td>\n",
       "      <td>2</td>\n",
       "      <td>Seven brides for seven brothers</td>\n",
       "      <td></td>\n",
       "      <td>Video recordings for the hearing impaired, Mus...</td>\n",
       "      <td></td>\n",
       "      <td></td>\n",
       "      <td>seven brides for seven brothers video recordin...</td>\n",
       "      <td>VIDEOCASS</td>\n",
       "    </tr>\n",
       "    <tr>\n",
       "      <th>2</th>\n",
       "      <td>31656</td>\n",
       "      <td>Physical</td>\n",
       "      <td>Horizon</td>\n",
       "      <td>2005</td>\n",
       "      <td>4</td>\n",
       "      <td>2</td>\n",
       "      <td>History [sound recording] / Loudon Wainwright ...</td>\n",
       "      <td>Wainwright, Loudon, III, 1946-</td>\n",
       "      <td>Popular music 1991 2000</td>\n",
       "      <td>Charisma,</td>\n",
       "      <td>p1992.</td>\n",
       "      <td>history sound recording loudon wainwright iii ...</td>\n",
       "      <td>SOUNDDISC</td>\n",
       "    </tr>\n",
       "    <tr>\n",
       "      <th>3</th>\n",
       "      <td>31657</td>\n",
       "      <td>Physical</td>\n",
       "      <td>Horizon</td>\n",
       "      <td>2005</td>\n",
       "      <td>4</td>\n",
       "      <td>2</td>\n",
       "      <td>Doing big business on the internet</td>\n",
       "      <td></td>\n",
       "      <td>Internet, Internet advertising, Information ne...</td>\n",
       "      <td></td>\n",
       "      <td></td>\n",
       "      <td>doing big business on the internet internet in...</td>\n",
       "      <td>BOOK</td>\n",
       "    </tr>\n",
       "    <tr>\n",
       "      <th>4</th>\n",
       "      <td>31658</td>\n",
       "      <td>Physical</td>\n",
       "      <td>Horizon</td>\n",
       "      <td>2005</td>\n",
       "      <td>4</td>\n",
       "      <td>2</td>\n",
       "      <td>Lets learn how to dance shag</td>\n",
       "      <td></td>\n",
       "      <td>Shag Dance, Ballroom dancing</td>\n",
       "      <td></td>\n",
       "      <td></td>\n",
       "      <td>lets learn how to dance shag shag dance ballro...</td>\n",
       "      <td>VIDEOCASS</td>\n",
       "    </tr>\n",
       "  </tbody>\n",
       "</table>\n",
       "</div>"
      ],
      "text/plain": [
       "      ID UsageClass CheckoutType  CheckoutYear  CheckoutMonth  Checkouts  \\\n",
       "0  31654   Physical      Horizon          2005              4          1   \n",
       "1  31655   Physical      Horizon          2005              4          2   \n",
       "2  31656   Physical      Horizon          2005              4          2   \n",
       "3  31657   Physical      Horizon          2005              4          2   \n",
       "4  31658   Physical      Horizon          2005              4          2   \n",
       "\n",
       "                                               Title  \\\n",
       "0                           Footprints at the window   \n",
       "1                    Seven brides for seven brothers   \n",
       "2  History [sound recording] / Loudon Wainwright ...   \n",
       "3                 Doing big business on the internet   \n",
       "4                       Lets learn how to dance shag   \n",
       "\n",
       "                          Creator  \\\n",
       "0                                   \n",
       "1                                   \n",
       "2  Wainwright, Loudon, III, 1946-   \n",
       "3                                   \n",
       "4                                   \n",
       "\n",
       "                                            Subjects  Publisher  \\\n",
       "0            England Fiction, Space and time Fiction              \n",
       "1  Video recordings for the hearing impaired, Mus...              \n",
       "2                            Popular music 1991 2000  Charisma,   \n",
       "3  Internet, Internet advertising, Information ne...              \n",
       "4                       Shag Dance, Ballroom dancing              \n",
       "\n",
       "  PublicationYear                                           all_text  \\\n",
       "0                  footprints at the window england fiction space...   \n",
       "1                  seven brides for seven brothers video recordin...   \n",
       "2          p1992.  history sound recording loudon wainwright iii ...   \n",
       "3                  doing big business on the internet internet in...   \n",
       "4                  lets learn how to dance shag shag dance ballro...   \n",
       "\n",
       "  MaterialType  \n",
       "0         BOOK  \n",
       "1    VIDEOCASS  \n",
       "2    SOUNDDISC  \n",
       "3         BOOK  \n",
       "4    VIDEOCASS  "
      ]
     },
     "execution_count": 74,
     "metadata": {},
     "output_type": "execute_result"
    }
   ],
   "source": [
    "class_ = [np.argmax(predicted_[i]) for i in range(len(predicted_))]\n",
    "test_data['MaterialType'] = [map_target_rev[class_[i]] for i in range(len(class_))]\n",
    "test_data.head()"
   ]
  },
  {
   "cell_type": "code",
   "execution_count": 75,
   "metadata": {},
   "outputs": [],
   "source": [
    "test_data[['ID','MaterialType']].to_csv('sub_mat.csv',index=False)"
   ]
  },
  {
   "cell_type": "raw",
   "metadata": {},
   "source": [
    "Key difference is Glove treats each word in corpus like an atomic entity and generates a vector for each word. In this sense Glove is very much like word2vec- both treat words as the smallest unit to train on.\n",
    "\n",
    "Fasttext which is essentially an extension of word2vec model, treats each word as composed of character ngrams. So the vector for a word is made of the sum of this character n grams. This difference enables fasttext to\n",
    "\n",
    "Generate better word embeddings for rare words ( even if words are rare their character n grams are still shared with other words - hence the embeddings can still be good)\n",
    "Out of vocabulary words - they can construct the vector for a word from its character n grams even if word doesn't appear in training corpus. Both Glove and word2vec can't."
   ]
  },
  {
   "cell_type": "markdown",
   "metadata": {},
   "source": [
    "# Next Steps On Improvement\n",
    "\n",
    "1. Add Fasttext, paragram embeddings and take their average for training. Adding Fasttext for feature building would make a lot more sense since Fasttext focusses more on building vector of ngrams of the word, so words like \"fictiondial\" will have a word vector in Fasttext. We have around 16k words for which we could'nt find the word vectors. For these words we can find corresponding word vector from Fasttext.\n",
    "2. Improvement on the architecture by finding the appropriate hidden units and making it more deeper."
   ]
  },
  {
   "cell_type": "code",
   "execution_count": 95,
   "metadata": {},
   "outputs": [
    {
     "data": {
      "text/plain": [
       "['illm',\n",
       " 'bildungsromans',\n",
       " 'fictionharpercollins',\n",
       " 'fictionharcourt',\n",
       " 'fictionrandom',\n",
       " 'fictionviking',\n",
       " 'fictionhoughton',\n",
       " 'fictionfarrar',\n",
       " 'fictionsimon',\n",
       " 'fictionthorndike']"
      ]
     },
     "execution_count": 95,
     "metadata": {},
     "output_type": "execute_result"
    }
   ],
   "source": [
    "words_not_found[0:10]"
   ]
  },
  {
   "cell_type": "code",
   "execution_count": null,
   "metadata": {},
   "outputs": [],
   "source": []
  }
 ],
 "metadata": {
  "kernelspec": {
   "display_name": "Python 3",
   "language": "python",
   "name": "python3"
  },
  "language_info": {
   "codemirror_mode": {
    "name": "ipython",
    "version": 3
   },
   "file_extension": ".py",
   "mimetype": "text/x-python",
   "name": "python",
   "nbconvert_exporter": "python",
   "pygments_lexer": "ipython3",
   "version": "3.6.8"
  }
 },
 "nbformat": 4,
 "nbformat_minor": 2
}
